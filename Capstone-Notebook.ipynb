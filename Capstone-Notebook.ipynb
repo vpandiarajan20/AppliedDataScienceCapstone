{
    "cells": [
        {
            "metadata": {
                "collapsed": true
            },
            "cell_type": "markdown",
            "source": "<h1>Applied Data Science Capstone Notebook</h1>\n<p>This is the last part of the Coursera specialization: IBM Data Science Professional. I will be using this notebook to show what I have learned.</p>"
        },
        {
            "metadata": {},
            "cell_type": "code",
            "source": "import pandas as pd\nimport numpy as np",
            "execution_count": 1,
            "outputs": []
        },
        {
            "metadata": {},
            "cell_type": "code",
            "source": "print(\"Hello Capstone Project Course!\")",
            "execution_count": 2,
            "outputs": [
                {
                    "output_type": "stream",
                    "text": "Hello Capstone Project Course!\n",
                    "name": "stdout"
                }
            ]
        },
        {
            "metadata": {},
            "cell_type": "markdown",
            "source": "<h2>Week 1</h2>"
        },
        {
            "metadata": {},
            "cell_type": "markdown",
            "source": "<h4>Introduction/Business Problem</h4>"
        },
        {
            "metadata": {},
            "cell_type": "markdown",
            "source": "<p>New York City is known by many for good food, lots of people, and it's beauty. With almost nine million people, there's a chance for every business to thrive. A rich restauranteur has recognized the vast opportunity in New York City, as the city continues to grow, year over year. He wants to get involved in the New York City restaurant scene and introduce New Yorkers to new cuisines. He has hired me to find which cuisines are the least available in each of the neighborhoods in New York City. Our question will be \"Which cuisine is the least available in each of the neighborhoods of New York City?\" This may seem like a strange question, but the restauranteur is confident that he will be able to gain immense profit from the insight provided by this data analysis. Introducing new food to people is a high risk high reward endeavor and would interest any large scale restauranteur.</p>"
        },
        {
            "metadata": {},
            "cell_type": "markdown",
            "source": "<h4>Data</h4>"
        },
        {
            "metadata": {},
            "cell_type": "markdown",
            "source": "<p>We will find which cuisine is the least available in each of the neighborhoods of New York City by leveraging Foursquare data, data on New York City (latitude, longitutde, neighborhoods, bouroughs). The data on New York City should be fully provided by this data source: https://cocl.us/new_york_dataset. All data related to locations of  restaurants will be obtained from the FourSquare API used with the Request library in Python."
        },
        {
            "metadata": {},
            "cell_type": "code",
            "source": "",
            "execution_count": null,
            "outputs": []
        }
    ],
    "metadata": {
        "kernelspec": {
            "name": "python3",
            "display_name": "Python 3.7",
            "language": "python"
        },
        "language_info": {
            "name": "python",
            "version": "3.7.9",
            "mimetype": "text/x-python",
            "codemirror_mode": {
                "name": "ipython",
                "version": 3
            },
            "pygments_lexer": "ipython3",
            "nbconvert_exporter": "python",
            "file_extension": ".py"
        }
    },
    "nbformat": 4,
    "nbformat_minor": 1
}